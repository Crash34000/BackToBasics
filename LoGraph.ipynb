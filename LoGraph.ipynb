{
 "cells": [
  {
   "cell_type": "markdown",
   "metadata": {},
   "source": [
    "# Graph Algo "
   ]
  },
  {
   "cell_type": "markdown",
   "metadata": {},
   "source": [
    "De deux chose l'une ... \n",
    "\n",
    "__ Soit on utilise une autre representation plus direct\n",
    "\n",
    "type matrice d'adjacence\n",
    "type edgesList\n",
    "\n",
    "\n",
    "__ Soit on fait un objet graph dans lequel il y aura les méthode \"classique\"\n"
   ]
  },
  {
   "cell_type": "code",
   "execution_count": 38,
   "metadata": {},
   "outputs": [
    {
     "name": "stdout",
     "output_type": "stream",
     "text": [
      "[{'a', 'b'}, {'c', 'a'}, {'d', 'b'}, {'c', 'd'}, {'d', 'e'}]\n"
     ]
    }
   ],
   "source": [
    "class graph:\n",
    "    \n",
    "    def __init__(self,gdict=None):\n",
    "        if gdict is None:\n",
    "            gdict = {}\n",
    "        self.gdict = gdict\n",
    "    \n",
    "    def edges(self):\n",
    "        return self.findedges()\n",
    "    \n",
    "    def AddEdge(elf,edge):\n",
    "        edge = set(edge) \n",
    "        (vrtx1, vrtx2) = tuple (edge)\n",
    "        if (vrtx1 in self.gdict):\n",
    "            self.gdict[vrtx1].append(vrtx2)\n",
    "        else:\n",
    "            elf.gdict[vrtx1]= [vrtx2]\n",
    "    \n",
    "    def findedges(self):\n",
    "        edgename = []\n",
    "        for v in self.gdict:\n",
    "            for nextv in self.gdict[v]:\n",
    "                if {nextv,v} not in edgename:\n",
    "                    edgename.append({v,nextv})\n",
    "        return edgename\n",
    "\n",
    "TestGraph = {    \n",
    "                \"a\" : [\"b\",\"c\"],\n",
    "                \"b\" : [\"a\",\"d\"],\n",
    "                \"c\" : [\"a\",\"d\"],\n",
    "                \"d\" : [\"e\"],\n",
    "                \"e\" : [\"d\"]\n",
    "            }\n",
    "\n",
    "g = graph(TestGraph)\n",
    "print(g.edges())\n"
   ]
  },
  {
   "cell_type": "code",
   "execution_count": 39,
   "metadata": {},
   "outputs": [
    {
     "name": "stdout",
     "output_type": "stream",
     "text": [
      "0 1 1 0 0 \n",
      "1 0 0 1 0 \n",
      "1 0 0 1 0 \n",
      "0 0 0 0 1 \n",
      "0 0 0 1 0 \n"
     ]
    }
   ],
   "source": [
    "def printMatrix(m):\n",
    "    for r in range(len(m)):\n",
    "        for c in range(len(m[0])):\n",
    "            print(m[r][c],end = \" \")\n",
    "        print()\n",
    "\n",
    "\n",
    "# Matrice Adjacence :\n",
    "# a b c d e \n",
    "# 0 1 2 3 4\n",
    "s = 5\n",
    "mat = [[0]*s for i in range(s)]\n",
    "mat[0][1]=1\n",
    "mat[0][2]=1\n",
    "\n",
    "mat[1][0]=1\n",
    "mat[1][3]=1\n",
    "\n",
    "mat[2][0]=1\n",
    "mat[2][3]=1\n",
    "\n",
    "mat[3][4]=1\n",
    "mat[4][3]=1\n",
    "\n",
    "printMatrix(mat)\n",
    "\n",
    "\n"
   ]
  },
  {
   "cell_type": "markdown",
   "metadata": {},
   "source": [
    "Probleme : si le graph est grand ... la matrice contient n^2 élements\n",
    "plus vraiment faisable ... surtout si elle est majoritairement rempli de 0\n",
    "\n",
    "Idee => Stocker simplement la liste des connections"
   ]
  },
  {
   "cell_type": "markdown",
   "metadata": {},
   "source": [
    "## DFS and BFS "
   ]
  },
  {
   "cell_type": "markdown",
   "metadata": {},
   "source": [
    "### DFS (Depth first search)"
   ]
  },
  {
   "cell_type": "code",
   "execution_count": 40,
   "metadata": {},
   "outputs": [
    {
     "name": "stdout",
     "output_type": "stream",
     "text": [
      "[True, True, True, True, True]\n"
     ]
    }
   ],
   "source": [
    "# Matrice List d'Adjacence :\n",
    "s = 5\n",
    "mat = [0]*s \n",
    "mat[0] = [1,3]\n",
    "mat[1] = [0,2,4]\n",
    "mat[2] = [1,4]\n",
    "mat[3] = [0]\n",
    "mat[4] = [1,2]\n",
    "\n",
    "visited = [False] * len(mat)\n",
    "\n",
    "def dfs(s):\n",
    "    if visited[s]:\n",
    "        return # we already visited this node\n",
    "    visited[s]=True\n",
    "    #Here some code to process \n",
    "    for i in mat[s]:\n",
    "         dfs(i)\n",
    "\n",
    "            \n",
    "dfs(4)\n",
    "print(visited)"
   ]
  },
  {
   "cell_type": "markdown",
   "metadata": {},
   "source": [
    "## BFS (breadth-first search) TODO "
   ]
  },
  {
   "cell_type": "code",
   "execution_count": 12,
   "metadata": {},
   "outputs": [
    {
     "name": "stdout",
     "output_type": "stream",
     "text": [
      "[True, True, True, True, True]\n"
     ]
    }
   ],
   "source": [
    "# Matrice List d'Adjacence :\n",
    "s = 5\n",
    "mat = [0]*s \n",
    "mat[0] = [1,3]\n",
    "mat[1] = [0,2,4]\n",
    "mat[2] = [1,4]\n",
    "mat[3] = [0]\n",
    "mat[4] = [1,2]\n",
    "\n",
    "\n",
    "\n",
    "def bfs(mat,x):\n",
    "\n",
    "    visited = [False] * len(mat)\n",
    "    distance = [0] * len(mat)\n",
    "    queue = []\n",
    "\n",
    "    #Starting at node x \n",
    "    queue.append(x)\n",
    "    visited[x] = True\n",
    "    distance[x] = 0\n",
    "\n",
    "    while (len(queue)!=0):\n",
    "        crt = queue.pop(0)\n",
    "        #print(\"on pop:\", crt, queue)\n",
    "        for i in mat[crt]:\n",
    "            #print(\"adj au node courant \",mat[crt])\n",
    "            if visited[i]:\n",
    "                continue\n",
    "            visited[i] = True\n",
    "            distance[i] = distance[crt]+1\n",
    "            #print(\"on append \",i)\n",
    "            queue.append(i)\n",
    "\n",
    "    print(visited)\n",
    "    \n",
    "bfs(mat,0)"
   ]
  },
  {
   "cell_type": "markdown",
   "metadata": {},
   "source": [
    "## Shortest Path\n",
    "\n",
    "### Bellman-Ford algo\n",
    "\n",
    "En gros, pour chaque noeud on regarde TOUTES les aretes pour diminuer la distance avec le noeud de départ"
   ]
  },
  {
   "attachments": {
    "image.png": {
     "image/png": "[encoded data removed]"
    }
   },
   "cell_type": "markdown",
   "metadata": {},
   "source": [
    "![image.png](attachment:image.png)"
   ]
  },
  {
   "cell_type": "code",
   "execution_count": 22,
   "metadata": {
    "scrolled": true
   },
   "outputs": [
    {
     "name": "stdout",
     "output_type": "stream",
     "text": [
      "0 1 5\n",
      "0 3 7\n",
      "0 2 3\n",
      "1 4 2\n",
      "1 3 3\n",
      "2 3 1\n",
      "3 4 2\n",
      "0 1 5\n",
      "0 3 7\n",
      "0 2 3\n",
      "1 4 2\n",
      "1 3 3\n",
      "2 3 1\n",
      "3 4 2\n",
      "0 1 5\n",
      "0 3 7\n",
      "0 2 3\n",
      "1 4 2\n",
      "1 3 3\n",
      "2 3 1\n",
      "3 4 2\n",
      "0 1 5\n",
      "0 3 7\n",
      "0 2 3\n",
      "1 4 2\n",
      "1 3 3\n",
      "2 3 1\n",
      "3 4 2\n",
      "0 1 5\n",
      "0 3 7\n",
      "0 2 3\n",
      "1 4 2\n",
      "1 3 3\n",
      "2 3 1\n",
      "3 4 2\n",
      "[0, 5, 3, 4, 6]\n"
     ]
    }
   ],
   "source": [
    "INF = 1e9 + 7\n",
    "mat = []\n",
    "mat.append([1,2,5]) # edge from 1 to 2 with weight 5\n",
    "mat.append([1,4,7])\n",
    "mat.append([1,3,3])\n",
    "mat.append([2,5,2])\n",
    "mat.append([2,4,3])\n",
    "mat.append([3,4,1])\n",
    "mat.append([4,5,2])\n",
    "# pour tester, pas besoin des 2 directions \n",
    "n = 5 # nb node\n",
    "\n",
    "dist = [INF] * n\n",
    "x = 1 # starting node\n",
    "dist[x-1] = 0\n",
    "\n",
    "for _ in range(n):\n",
    "    for e in mat:\n",
    "        a = e[0]-1\n",
    "        b = e[1]-1\n",
    "        w = e[2]\n",
    "        #print(a,b,w)\n",
    "        dist[b] = min(dist[b], dist[a]+w)\n",
    "\n",
    "print(dist)"
   ]
  },
  {
   "attachments": {
    "image.png": {
     "image/png": "[encoded data removed]"
    }
   },
   "cell_type": "markdown",
   "metadata": {},
   "source": [
    "![image.png](attachment:image.png)"
   ]
  },
  {
   "cell_type": "markdown",
   "metadata": {},
   "source": [
    "### Dijkstra’s algorithm\n",
    "\n",
    "Plus rapide que bellman mais on ne peut PAS avoir de poids négatif\n",
    "\n",
    "l'idée c'est de regarder en premier les aretes qui ont la déjà la min distance :\n"
   ]
  },
  {
   "attachments": {
    "image.png": {
     "image/png": "[encoded data removed]"
    }
   },
   "cell_type": "markdown",
   "metadata": {},
   "source": [
    "![image.png](attachment:image.png)"
   ]
  },
  {
   "cell_type": "markdown",
   "metadata": {},
   "source": []
  },
  {
   "cell_type": "code",
   "execution_count": null,
   "metadata": {},
   "outputs": [],
   "source": []
  },
  {
   "cell_type": "code",
   "execution_count": 12,
   "metadata": {},
   "outputs": [
    {
     "name": "stdout",
     "output_type": "stream",
     "text": [
      "[-1, 0, 5, 7, 3, 1]\n"
     ]
    }
   ],
   "source": [
    "import queue as Q\n",
    "INF = 1e9 + 7\n",
    "n = 5 # nb node\n",
    "mat = [0]*(n+1) \n",
    "mat[1] = [(2,5),(4,9),(5,1)]\n",
    "mat[2] = [(1,5),(3,2)]\n",
    "mat[3] = [(2,2),(4,6)]\n",
    "mat[4] = [(3,6),(1,9),(5,2)]\n",
    "mat[5] = [(1,1),(4,2)]\n",
    "\n",
    "# pareil pour le test, pas besoin d' arete dans les 2 sens\n",
    "\n",
    "n = 5 # nb node\n",
    "dist = [INF] * (n+1) \n",
    "dist[0] = -1\n",
    "visited = [False] * (n+1) \n",
    "x = 1 # starting node\n",
    "dist[x] = 0\n",
    "\n",
    "\n",
    "#q = [] # queue pour savoir quel noeud on doit process ensuite\n",
    "#q.append(x)\n",
    "q = Q.PriorityQueue()\n",
    "q.put((0,x))\n",
    "#while (len(q)!=0):\n",
    "while not q.empty():\n",
    "    #a = q.pop()\n",
    "    a = q.get()\n",
    "    #print(a[1])\n",
    "    if visited[a[1]]:\n",
    "        continue\n",
    "    visited[a[1]] = True\n",
    "    for e in mat[a[1]]:\n",
    "        b, w = e\n",
    "        #print(e,a,b,w)\n",
    "        if (dist[a[1]]+w < dist[b]):\n",
    "            dist[b] = dist[a[1]]+w\n",
    "            #q.append(b)\n",
    "            q.put((dist[b],b))\n",
    "print(dist)"
   ]
  },
  {
   "cell_type": "markdown",
   "metadata": {},
   "source": [
    "### Floyd–Warshall algorithm\n",
    "\n",
    "trouver TOUS les chemins les plus court entre 2 noeuds en O(n^3) grâce à la matrice adjacence"
   ]
  },
  {
   "attachments": {
    "0127660a-b826-41e5-a957-f789ce2a5ef7.png": {
     "image/png": "[encoded data removed]"
    }
   },
   "cell_type": "markdown",
   "metadata": {},
   "source": [
    "![image.png](attachment:0127660a-b826-41e5-a957-f789ce2a5ef7.png)"
   ]
  },
  {
   "cell_type": "code",
   "execution_count": 25,
   "metadata": {},
   "outputs": [
    {
     "name": "stdout",
     "output_type": "stream",
     "text": [
      "0 5 0 9 1 \n",
      "5 0 2 0 0 \n",
      "0 2 0 7 0 \n",
      "9 0 7 0 2 \n",
      "1 0 0 2 0 \n",
      "\n",
      "0 5 1000000007.0 9 1 \n",
      "5 0 2 1000000007.0 1000000007.0 \n",
      "1000000007.0 2 0 7 1000000007.0 \n",
      "9 1000000007.0 7 0 2 \n",
      "1 1000000007.0 1000000007.0 2 0 \n",
      "\n",
      "0 5 7 3 1 \n",
      "5 0 2 8 6 \n",
      "7 2 0 7 8 \n",
      "3 8 7 0 2 \n",
      "1 6 8 2 0 \n"
     ]
    }
   ],
   "source": [
    "def printMatrix(m):\n",
    "    for r in range(len(m)):\n",
    "        for c in range(len(m[0])):\n",
    "            print(m[r][c],end = \" \")\n",
    "        print()\n",
    "\n",
    "INF = 1e9+7\n",
    "# Matrice Adjacence :\n",
    "# a b c d e \n",
    "# 0 1 2 3 4\n",
    "s = 5\n",
    "mat = [[0]*s for i in range(s)]\n",
    "mat[0][1]=5\n",
    "mat[0][3]=9\n",
    "mat[0][4]=1\n",
    "mat[1][0]=5\n",
    "mat[1][2]=2\n",
    "mat[2][1]=2\n",
    "mat[2][3]=7\n",
    "mat[3][0]=9\n",
    "mat[3][2]=7\n",
    "mat[3][4]=2\n",
    "mat[4][0]=1\n",
    "mat[4][3]=2\n",
    "printMatrix(mat)\n",
    "\n",
    "dist = [[0]*s for i in range(s)] \n",
    "\n",
    "#premier round .. on remplit la matrice distance avec les adj\n",
    "for i in range(s):\n",
    "    for j in range(s):\n",
    "        if (i==j):\n",
    "            dist[i][j]=0\n",
    "        elif mat[i][j]:\n",
    "            dist[i][j] = mat[i][j]\n",
    "        else:\n",
    "            dist[i][j]=INF\n",
    "print(\"\")\n",
    "printMatrix(dist)\n",
    "\n",
    "# deuxieme round on utilise un DP sur distance pour trouver la plus courte distance\n",
    "for k in range(s):\n",
    "    for i in range(s):\n",
    "        for j in range(s):\n",
    "            dist[i][j]=min(dist[i][j], dist[i][k]+dist[k][j])\n",
    "\n",
    "print(\"\")\n",
    "printMatrix(dist)"
   ]
  },
  {
   "cell_type": "code",
   "execution_count": null,
   "metadata": {},
   "outputs": [],
   "source": [
    "\n",
    "        "
   ]
  }
 ],
 "metadata": {
  "kernelspec": {
   "display_name": "Python 3",
   "language": "python",
   "name": "python3"
  },
  "language_info": {
   "codemirror_mode": {
    "name": "ipython",
    "version": 3
   },
   "file_extension": ".py",
   "mimetype": "text/x-python",
   "name": "python",
   "nbconvert_exporter": "python",
   "pygments_lexer": "ipython3",
   "version": "3.7.3"
  }
 },
 "nbformat": 4,
 "nbformat_minor": 4
}
