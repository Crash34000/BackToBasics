{
 "cells": [
  {
   "cell_type": "markdown",
   "metadata": {},
   "source": [
    "De deux chose l'une ... \n",
    "\n",
    "__ Soit on utilise une autre representation plus direct\n",
    "\n",
    "type matrice d'adjacence\n",
    "type edgesList\n",
    "\n",
    "\n",
    "__ Soit on fait un objet graph dans lequel il y aura les méthode \"classique\"\n"
   ]
  },
  {
   "cell_type": "code",
   "execution_count": 38,
   "metadata": {},
   "outputs": [
    {
     "name": "stdout",
     "output_type": "stream",
     "text": [
      "[{'a', 'b'}, {'c', 'a'}, {'d', 'b'}, {'c', 'd'}, {'d', 'e'}]\n"
     ]
    }
   ],
   "source": [
    "class graph:\n",
    "    \n",
    "    def __init__(self,gdict=None):\n",
    "        if gdict is None:\n",
    "            gdict = {}\n",
    "        self.gdict = gdict\n",
    "    \n",
    "    def edges(self):\n",
    "        return self.findedges()\n",
    "    \n",
    "    def AddEdge(elf,edge):\n",
    "        edge = set(edge) \n",
    "        (vrtx1, vrtx2) = tuple (edge)\n",
    "        if (vrtx1 in self.gdict):\n",
    "            self.gdict[vrtx1].append(vrtx2)\n",
    "        else:\n",
    "            elf.gdict[vrtx1]= [vrtx2]\n",
    "    \n",
    "    def findedges(self):\n",
    "        edgename = []\n",
    "        for v in self.gdict:\n",
    "            for nextv in self.gdict[v]:\n",
    "                if {nextv,v} not in edgename:\n",
    "                    edgename.append({v,nextv})\n",
    "        return edgename\n",
    "\n",
    "TestGraph = {    \n",
    "                \"a\" : [\"b\",\"c\"],\n",
    "                \"b\" : [\"a\",\"d\"],\n",
    "                \"c\" : [\"a\",\"d\"],\n",
    "                \"d\" : [\"e\"],\n",
    "                \"e\" : [\"d\"]\n",
    "            }\n",
    "\n",
    "g = graph(TestGraph)\n",
    "print(g.edges())\n"
   ]
  },
  {
   "cell_type": "code",
   "execution_count": 39,
   "metadata": {},
   "outputs": [
    {
     "name": "stdout",
     "output_type": "stream",
     "text": [
      "0 1 1 0 0 \n",
      "1 0 0 1 0 \n",
      "1 0 0 1 0 \n",
      "0 0 0 0 1 \n",
      "0 0 0 1 0 \n"
     ]
    }
   ],
   "source": [
    "def printMatrix(m):\n",
    "    for r in range(len(m)):\n",
    "        for c in range(len(m[0])):\n",
    "            print(m[r][c],end = \" \")\n",
    "        print()\n",
    "\n",
    "\n",
    "# Matrice Adjacence :\n",
    "# a b c d e \n",
    "# 0 1 2 3 4\n",
    "s = 5\n",
    "mat = [[0]*s for i in range(s)]\n",
    "mat[0][1]=1\n",
    "mat[0][2]=1\n",
    "\n",
    "mat[1][0]=1\n",
    "mat[1][3]=1\n",
    "\n",
    "mat[2][0]=1\n",
    "mat[2][3]=1\n",
    "\n",
    "mat[3][4]=1\n",
    "mat[4][3]=1\n",
    "\n",
    "printMatrix(mat)\n",
    "\n",
    "\n"
   ]
  },
  {
   "cell_type": "markdown",
   "metadata": {},
   "source": [
    "Probleme : si le graph est grand ... la matrice contient n^2 élements\n",
    "plus vraiment faisable ... surtout si elle est majoritairement rempli de 0\n",
    "\n",
    "Idee => Stocker simplement la liste des connections"
   ]
  },
  {
   "cell_type": "markdown",
   "metadata": {},
   "source": [
    "## DFS and BFS "
   ]
  },
  {
   "cell_type": "markdown",
   "metadata": {},
   "source": [
    "### DFS (Depth first search)"
   ]
  },
  {
   "cell_type": "code",
   "execution_count": 40,
   "metadata": {},
   "outputs": [
    {
     "name": "stdout",
     "output_type": "stream",
     "text": [
      "[True, True, True, True, True]\n"
     ]
    }
   ],
   "source": [
    "# Matrice List d'Adjacence :\n",
    "s = 5\n",
    "mat = [0]*s \n",
    "mat[0] = [1,3]\n",
    "mat[1] = [0,2,4]\n",
    "mat[2] = [1,4]\n",
    "mat[3] = [0]\n",
    "mat[4] = [1,2]\n",
    "\n",
    "visited = [False] * len(mat)\n",
    "\n",
    "def dfs(s):\n",
    "    if visited[s]:\n",
    "        return # we already visited this node\n",
    "    visited[s]=True\n",
    "    #Here some code to process \n",
    "    for i in mat[s]:\n",
    "         dfs(i)\n",
    "\n",
    "            \n",
    "dfs(4)\n",
    "print(visited)"
   ]
  },
  {
   "cell_type": "markdown",
   "metadata": {},
   "source": [
    "## BFS (breadth-first search) TODO "
   ]
  },
  {
   "cell_type": "code",
   "execution_count": 41,
   "metadata": {},
   "outputs": [],
   "source": [
    "# Matrice List d'Adjacence :\n",
    "s = 5\n",
    "mat = [0]*s \n",
    "mat[0] = [1,3]\n",
    "mat[1] = [0,2,4]\n",
    "mat[2] = [1,4]\n",
    "mat[3] = [0]\n",
    "mat[4] = [1,2]\n",
    "\n",
    "visited = [False] * len(mat)\n"
   ]
  },
  {
   "cell_type": "markdown",
   "metadata": {},
   "source": [
    "$$test = test1$$\n",
    "\\section{TEST}\n",
    "\n",
    "| aaze  | sdfds |\n",
    "|-------|-------|\n",
    "|   a   |   b   |\n",
    "|-------|-------|\n",
    "| 123   | 456   |"
   ]
  },
  {
   "cell_type": "code",
   "execution_count": null,
   "metadata": {},
   "outputs": [],
   "source": []
  }
 ],
 "metadata": {
  "kernelspec": {
   "display_name": "Python 3",
   "language": "python",
   "name": "python3"
  },
  "language_info": {
   "codemirror_mode": {
    "name": "ipython",
    "version": 3
   },
   "file_extension": ".py",
   "mimetype": "text/x-python",
   "name": "python",
   "nbconvert_exporter": "python",
   "pygments_lexer": "ipython3",
   "version": "3.7.3"
  }
 },
 "nbformat": 4,
 "nbformat_minor": 4
}
